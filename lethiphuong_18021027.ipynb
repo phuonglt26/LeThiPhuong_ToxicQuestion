{
  "nbformat": 4,
  "nbformat_minor": 0,
  "metadata": {
    "kernelspec": {
      "language": "python",
      "display_name": "Python 3",
      "name": "python3"
    },
    "language_info": {
      "name": "python",
      "version": "3.7.10",
      "mimetype": "text/x-python",
      "codemirror_mode": {
        "name": "ipython",
        "version": 3
      },
      "pygments_lexer": "ipython3",
      "nbconvert_exporter": "python",
      "file_extension": ".py"
    },
    "colab": {
      "name": "lethiphuong-18021027.ipynb",
      "provenance": [],
      "collapsed_sections": [],
      "include_colab_link": true
    }
  },
  "cells": [
    {
      "cell_type": "markdown",
      "metadata": {
        "id": "view-in-github",
        "colab_type": "text"
      },
      "source": [
        "<a href=\"https://colab.research.google.com/github/lephuong02062000/LeThiPhuong_ToxicQuestion/blob/master/lethiphuong_18021027.ipynb\" target=\"_parent\"><img src=\"https://colab.research.google.com/assets/colab-badge.svg\" alt=\"Open In Colab\"/></a>"
      ]
    },
    {
      "cell_type": "markdown",
      "metadata": {
        "id": "1KgkPq_MJApA"
      },
      "source": [
        "# Mô tả yêu cầu bài toán:\n",
        "* Đây là bài toán phân loại các câu hỏi thiếu chân thành, những câu hỏi được đặt ra dựa trên những tiền đề sai lầm hoặc có ý định đưa ra một tuyên bố hơn là tìm kiếm những câu trả lời hữu ích trên Quora\n"
      ]
    },
    {
      "cell_type": "markdown",
      "metadata": {
        "id": "lGpHvYxWJApI"
      },
      "source": [
        "# I. Data Overview"
      ]
    },
    {
      "cell_type": "markdown",
      "metadata": {
        "id": "SzrAJUm1JApJ"
      },
      "source": [
        "> **1. Load dữ liệu**"
      ]
    },
    {
      "cell_type": "code",
      "metadata": {
        "trusted": true,
        "id": "ovGFu3yuJApJ"
      },
      "source": [
        "import pandas as pd\n",
        "import re"
      ],
      "execution_count": 1,
      "outputs": []
    },
    {
      "cell_type": "code",
      "metadata": {
        "trusted": true,
        "colab": {
          "base_uri": "https://localhost:8080/",
          "height": 399
        },
        "id": "-UgC_hErJApJ",
        "outputId": "7106681a-d4ce-48f3-8ee9-611d02521c6c"
      },
      "source": [
        "train_df = pd.read_csv(\"/content/sample_data/Data/Input/train.csv\")\n",
        "test_df = pd.read_csv(\"/content/sample_data/Data/Input/test.csv\")\n",
        "train_df\n"
      ],
      "execution_count": 2,
      "outputs": [
        {
          "output_type": "execute_result",
          "data": {
            "text/html": [
              "<div>\n",
              "<style scoped>\n",
              "    .dataframe tbody tr th:only-of-type {\n",
              "        vertical-align: middle;\n",
              "    }\n",
              "\n",
              "    .dataframe tbody tr th {\n",
              "        vertical-align: top;\n",
              "    }\n",
              "\n",
              "    .dataframe thead th {\n",
              "        text-align: right;\n",
              "    }\n",
              "</style>\n",
              "<table border=\"1\" class=\"dataframe\">\n",
              "  <thead>\n",
              "    <tr style=\"text-align: right;\">\n",
              "      <th></th>\n",
              "      <th>qid</th>\n",
              "      <th>question_text</th>\n",
              "      <th>target</th>\n",
              "    </tr>\n",
              "  </thead>\n",
              "  <tbody>\n",
              "    <tr>\n",
              "      <th>0</th>\n",
              "      <td>00002165364db923c7e6</td>\n",
              "      <td>How did Quebec nationalists see their province...</td>\n",
              "      <td>0</td>\n",
              "    </tr>\n",
              "    <tr>\n",
              "      <th>1</th>\n",
              "      <td>000032939017120e6e44</td>\n",
              "      <td>Do you have an adopted dog, how would you enco...</td>\n",
              "      <td>0</td>\n",
              "    </tr>\n",
              "    <tr>\n",
              "      <th>2</th>\n",
              "      <td>0000412ca6e4628ce2cf</td>\n",
              "      <td>Why does velocity affect time? Does velocity a...</td>\n",
              "      <td>0</td>\n",
              "    </tr>\n",
              "    <tr>\n",
              "      <th>3</th>\n",
              "      <td>000042bf85aa498cd78e</td>\n",
              "      <td>How did Otto von Guericke used the Magdeburg h...</td>\n",
              "      <td>0</td>\n",
              "    </tr>\n",
              "    <tr>\n",
              "      <th>4</th>\n",
              "      <td>0000455dfa3e01eae3af</td>\n",
              "      <td>Can I convert montra helicon D to a mountain b...</td>\n",
              "      <td>0</td>\n",
              "    </tr>\n",
              "    <tr>\n",
              "      <th>...</th>\n",
              "      <td>...</td>\n",
              "      <td>...</td>\n",
              "      <td>...</td>\n",
              "    </tr>\n",
              "    <tr>\n",
              "      <th>1306117</th>\n",
              "      <td>ffffcc4e2331aaf1e41e</td>\n",
              "      <td>What other technical skills do you need as a c...</td>\n",
              "      <td>0</td>\n",
              "    </tr>\n",
              "    <tr>\n",
              "      <th>1306118</th>\n",
              "      <td>ffffd431801e5a2f4861</td>\n",
              "      <td>Does MS in ECE have good job prospects in USA ...</td>\n",
              "      <td>0</td>\n",
              "    </tr>\n",
              "    <tr>\n",
              "      <th>1306119</th>\n",
              "      <td>ffffd48fb36b63db010c</td>\n",
              "      <td>Is foam insulation toxic?</td>\n",
              "      <td>0</td>\n",
              "    </tr>\n",
              "    <tr>\n",
              "      <th>1306120</th>\n",
              "      <td>ffffec519fa37cf60c78</td>\n",
              "      <td>How can one start a research project based on ...</td>\n",
              "      <td>0</td>\n",
              "    </tr>\n",
              "    <tr>\n",
              "      <th>1306121</th>\n",
              "      <td>ffffed09fedb5088744a</td>\n",
              "      <td>Who wins in a battle between a Wolverine and a...</td>\n",
              "      <td>0</td>\n",
              "    </tr>\n",
              "  </tbody>\n",
              "</table>\n",
              "<p>1306122 rows × 3 columns</p>\n",
              "</div>"
            ],
            "text/plain": [
              "                          qid  ... target\n",
              "0        00002165364db923c7e6  ...      0\n",
              "1        000032939017120e6e44  ...      0\n",
              "2        0000412ca6e4628ce2cf  ...      0\n",
              "3        000042bf85aa498cd78e  ...      0\n",
              "4        0000455dfa3e01eae3af  ...      0\n",
              "...                       ...  ...    ...\n",
              "1306117  ffffcc4e2331aaf1e41e  ...      0\n",
              "1306118  ffffd431801e5a2f4861  ...      0\n",
              "1306119  ffffd48fb36b63db010c  ...      0\n",
              "1306120  ffffec519fa37cf60c78  ...      0\n",
              "1306121  ffffed09fedb5088744a  ...      0\n",
              "\n",
              "[1306122 rows x 3 columns]"
            ]
          },
          "metadata": {
            "tags": []
          },
          "execution_count": 2
        }
      ]
    },
    {
      "cell_type": "markdown",
      "metadata": {
        "id": "aPJYwgilJApK"
      },
      "source": [
        "**=> Nhận xét:** \n",
        "\n",
        "* Về yêu cầu bài toán ta thấy đây là bài toán phân lớp nhị phân, mục đích là phải detect được câu hỏi nào là toxic\n",
        "* Nhìn vào question_text thì ta có thể thấy rằng đây là dữ liệu tiếng anh, mỗi mẫu là các câu hỏi, nhìn chung các câu hỏi này hỏi về vấn đề chính trị, giáo dục, giới tính,... Là chủ đề về xã hội. \n",
        "* cần phải được tiền xử lý qua các bước như đưa về dạng gốc, tokenize, loại bỏ stop words, loại bỏ dấu,..."
      ]
    },
    {
      "cell_type": "code",
      "metadata": {
        "trusted": true,
        "id": "1kMAoG4CJApL",
        "colab": {
          "base_uri": "https://localhost:8080/",
          "height": 319
        },
        "outputId": "86c945f7-d783-4560-8f08-d020e6df19f0"
      },
      "source": [
        "import matplotlib.pyplot as plt\n",
        "import numpy as np\n",
        "labels = [ 'untoxic question', 'toxic question']\n",
        "x = train_df['target'].value_counts().to_list()\n",
        "y = labels\n",
        "plt.xticks(fontsize =12)\n",
        "plt.yticks(fontsize =12)\n",
        "plt.xlabel('Polarity',fontsize =13)\n",
        "plt.ylabel('Number of question',fontsize = 13)\n",
        "# plt.xticks(rotation)\n",
        "color_list = [ '#FF6565', '#2C99FE']\n",
        "plt.bar(y,x,color = color_list,width=0.3, align='center',)\n",
        "plt.title('Data Distribution')\n",
        "plt.figure(figsize=(5,10))\n",
        "plt.show()"
      ],
      "execution_count": 3,
      "outputs": [
        {
          "output_type": "display_data",
          "data": {
            "image/png": "[encoded data removed]",
            "text/plain": [
              "<Figure size 432x288 with 1 Axes>"
            ]
          },
          "metadata": {
            "tags": [],
            "needs_background": "light"
          }
        },
        {
          "output_type": "display_data",
          "data": {
            "text/plain": [
              "<Figure size 360x720 with 0 Axes>"
            ]
          },
          "metadata": {
            "tags": []
          }
        }
      ]
    },
    {
      "cell_type": "markdown",
      "metadata": {
        "id": "H_R6Git_JApL"
      },
      "source": [
        "**=> Nhận xét:** \n",
        "* nhìn vào biểu đồ trên ta thấy dữ liệu gặp phải vấn đề mất cân bằng. Cụ thể là nhãn có score là 1 (chính là nhãn toxic) ít hơn rất nhiều so với nhãn có score là 0 ( nhãn bình thường)"
      ]
    },
    {
      "cell_type": "markdown",
      "metadata": {
        "id": "rD_7ZH7FJApL"
      },
      "source": [
        "# II. Làm sạch dữ liệu:\n",
        "> **1. Loại bỏ punctuation, viết thường các chữ**\n"
      ]
    },
    {
      "cell_type": "code",
      "metadata": {
        "trusted": true,
        "id": "949wqlqqJApM",
        "colab": {
          "base_uri": "https://localhost:8080/",
          "height": 36
        },
        "outputId": "16323466-1f34-44e3-fe15-3029f225a3dc"
      },
      "source": [
        "puncts = [\n",
        "    '½', '¿', 'ï', '¸', '-', ',', '/', '\"', '¨', '²', 'è', '×', '❤', '，', '↓', '▾', '↑',\n",
        "    'Ã', '±', ']', '·', '_', '<', '?', '⋅', '™', '~', '→', '′', '>', '≤', '€', '¥', '¼',\n",
        "    '¶', '@', '√', '®', '\\\\', '…', '、', '¹', '$', '•', '!', '¯', '&', '†', ')', '・', '^',\n",
        "    '—', '+', '#', '（', '³', '£', '″', '−', '[', '¬', '¦', '）', '–', '”', '¢', '%', '©',\n",
        "    '»', '}', '¾', '§', '=', '{', '‘', '∞', 'Ø', '°', '|', '：', '▒', 'â', 'à', ':', '(',\n",
        "    ';', '`', '│', 'é', '*', '’', '.', '\\'', '“',\n",
        "]\n",
        "\n",
        "def remove_punctuation(text):\n",
        "    for punct in puncts:\n",
        "        if punct in text:\n",
        "            text = text.lower()\n",
        "            text = text.replace(punct, '')\n",
        "            text = text.strip()\n",
        "    return text\n",
        "\n",
        "train_df['question_text'] = train_df['question_text'].apply(remove_punctuation)\n",
        "test_df['question_text'] = test_df['question_text'].apply(remove_punctuation)\n",
        "train_df.question_text[0]"
      ],
      "execution_count": 4,
      "outputs": [
        {
          "output_type": "execute_result",
          "data": {
            "application/vnd.google.colaboratory.intrinsic+json": {
              "type": "string"
            },
            "text/plain": [
              "'how did quebec nationalists see their province as a nation in the 1960s'"
            ]
          },
          "metadata": {
            "tags": []
          },
          "execution_count": 4
        }
      ]
    },
    {
      "cell_type": "markdown",
      "metadata": {
        "id": "1nJoT4qrJApM"
      },
      "source": [
        "> **2. Loại bỏ các số**"
      ]
    },
    {
      "cell_type": "code",
      "metadata": {
        "trusted": true,
        "id": "B_3AaEzxJApM",
        "colab": {
          "base_uri": "https://localhost:8080/",
          "height": 399
        },
        "outputId": "e04bdbc5-1504-479b-e302-86fa58456262"
      },
      "source": [
        "def remove_numbers(text):\n",
        "    text_removed_number = ''.join([i for i in text if not i.isdigit()])\n",
        "    return text_removed_number\n",
        "train_df['question_text'] = train_df['question_text'].apply(remove_numbers)\n",
        "test_df['question_text'] = test_df['question_text'].apply(remove_numbers)\n",
        "train_df"
      ],
      "execution_count": 5,
      "outputs": [
        {
          "output_type": "execute_result",
          "data": {
            "text/html": [
              "<div>\n",
              "<style scoped>\n",
              "    .dataframe tbody tr th:only-of-type {\n",
              "        vertical-align: middle;\n",
              "    }\n",
              "\n",
              "    .dataframe tbody tr th {\n",
              "        vertical-align: top;\n",
              "    }\n",
              "\n",
              "    .dataframe thead th {\n",
              "        text-align: right;\n",
              "    }\n",
              "</style>\n",
              "<table border=\"1\" class=\"dataframe\">\n",
              "  <thead>\n",
              "    <tr style=\"text-align: right;\">\n",
              "      <th></th>\n",
              "      <th>qid</th>\n",
              "      <th>question_text</th>\n",
              "      <th>target</th>\n",
              "    </tr>\n",
              "  </thead>\n",
              "  <tbody>\n",
              "    <tr>\n",
              "      <th>0</th>\n",
              "      <td>00002165364db923c7e6</td>\n",
              "      <td>how did quebec nationalists see their province...</td>\n",
              "      <td>0</td>\n",
              "    </tr>\n",
              "    <tr>\n",
              "      <th>1</th>\n",
              "      <td>000032939017120e6e44</td>\n",
              "      <td>do you have an adopted dog how would you encou...</td>\n",
              "      <td>0</td>\n",
              "    </tr>\n",
              "    <tr>\n",
              "      <th>2</th>\n",
              "      <td>0000412ca6e4628ce2cf</td>\n",
              "      <td>why does velocity affect time does velocity af...</td>\n",
              "      <td>0</td>\n",
              "    </tr>\n",
              "    <tr>\n",
              "      <th>3</th>\n",
              "      <td>000042bf85aa498cd78e</td>\n",
              "      <td>how did otto von guericke used the magdeburg h...</td>\n",
              "      <td>0</td>\n",
              "    </tr>\n",
              "    <tr>\n",
              "      <th>4</th>\n",
              "      <td>0000455dfa3e01eae3af</td>\n",
              "      <td>can i convert montra helicon d to a mountain b...</td>\n",
              "      <td>0</td>\n",
              "    </tr>\n",
              "    <tr>\n",
              "      <th>...</th>\n",
              "      <td>...</td>\n",
              "      <td>...</td>\n",
              "      <td>...</td>\n",
              "    </tr>\n",
              "    <tr>\n",
              "      <th>1306117</th>\n",
              "      <td>ffffcc4e2331aaf1e41e</td>\n",
              "      <td>what other technical skills do you need as a c...</td>\n",
              "      <td>0</td>\n",
              "    </tr>\n",
              "    <tr>\n",
              "      <th>1306118</th>\n",
              "      <td>ffffd431801e5a2f4861</td>\n",
              "      <td>does ms in ece have good job prospects in usa ...</td>\n",
              "      <td>0</td>\n",
              "    </tr>\n",
              "    <tr>\n",
              "      <th>1306119</th>\n",
              "      <td>ffffd48fb36b63db010c</td>\n",
              "      <td>is foam insulation toxic</td>\n",
              "      <td>0</td>\n",
              "    </tr>\n",
              "    <tr>\n",
              "      <th>1306120</th>\n",
              "      <td>ffffec519fa37cf60c78</td>\n",
              "      <td>how can one start a research project based on ...</td>\n",
              "      <td>0</td>\n",
              "    </tr>\n",
              "    <tr>\n",
              "      <th>1306121</th>\n",
              "      <td>ffffed09fedb5088744a</td>\n",
              "      <td>who wins in a battle between a wolverine and a...</td>\n",
              "      <td>0</td>\n",
              "    </tr>\n",
              "  </tbody>\n",
              "</table>\n",
              "<p>1306122 rows × 3 columns</p>\n",
              "</div>"
            ],
            "text/plain": [
              "                          qid  ... target\n",
              "0        00002165364db923c7e6  ...      0\n",
              "1        000032939017120e6e44  ...      0\n",
              "2        0000412ca6e4628ce2cf  ...      0\n",
              "3        000042bf85aa498cd78e  ...      0\n",
              "4        0000455dfa3e01eae3af  ...      0\n",
              "...                       ...  ...    ...\n",
              "1306117  ffffcc4e2331aaf1e41e  ...      0\n",
              "1306118  ffffd431801e5a2f4861  ...      0\n",
              "1306119  ffffd48fb36b63db010c  ...      0\n",
              "1306120  ffffec519fa37cf60c78  ...      0\n",
              "1306121  ffffed09fedb5088744a  ...      0\n",
              "\n",
              "[1306122 rows x 3 columns]"
            ]
          },
          "metadata": {
            "tags": []
          },
          "execution_count": 5
        }
      ]
    },
    {
      "cell_type": "markdown",
      "metadata": {
        "id": "UMlZQ8dOJApN"
      },
      "source": [
        ""
      ]
    },
    {
      "cell_type": "markdown",
      "metadata": {
        "id": "WMBxNdjAJApN"
      },
      "source": [
        "> **2. Tokenize text**"
      ]
    },
    {
      "cell_type": "markdown",
      "metadata": {
        "id": "2y_ZFlHXJApN"
      },
      "source": [
        ""
      ]
    },
    {
      "cell_type": "code",
      "metadata": {
        "trusted": true,
        "id": "LaIrjgL4JApN",
        "colab": {
          "base_uri": "https://localhost:8080/",
          "height": 194
        },
        "outputId": "c1ee0dab-66e0-47bf-c25f-5e251513049d"
      },
      "source": [
        "\n",
        "def tokenize(text):\n",
        "    tokens =re.split('\\W+',text)\n",
        "    return tokens\n",
        "\n",
        "train_df['question_text']= train_df['question_text'].apply(tokenize)\n",
        "test_df['question_text']= test_df['question_text'].apply(tokenize)\n",
        "train_df.head()\n",
        "    "
      ],
      "execution_count": 6,
      "outputs": [
        {
          "output_type": "execute_result",
          "data": {
            "text/html": [
              "<div>\n",
              "<style scoped>\n",
              "    .dataframe tbody tr th:only-of-type {\n",
              "        vertical-align: middle;\n",
              "    }\n",
              "\n",
              "    .dataframe tbody tr th {\n",
              "        vertical-align: top;\n",
              "    }\n",
              "\n",
              "    .dataframe thead th {\n",
              "        text-align: right;\n",
              "    }\n",
              "</style>\n",
              "<table border=\"1\" class=\"dataframe\">\n",
              "  <thead>\n",
              "    <tr style=\"text-align: right;\">\n",
              "      <th></th>\n",
              "      <th>qid</th>\n",
              "      <th>question_text</th>\n",
              "      <th>target</th>\n",
              "    </tr>\n",
              "  </thead>\n",
              "  <tbody>\n",
              "    <tr>\n",
              "      <th>0</th>\n",
              "      <td>00002165364db923c7e6</td>\n",
              "      <td>[how, did, quebec, nationalists, see, their, p...</td>\n",
              "      <td>0</td>\n",
              "    </tr>\n",
              "    <tr>\n",
              "      <th>1</th>\n",
              "      <td>000032939017120e6e44</td>\n",
              "      <td>[do, you, have, an, adopted, dog, how, would, ...</td>\n",
              "      <td>0</td>\n",
              "    </tr>\n",
              "    <tr>\n",
              "      <th>2</th>\n",
              "      <td>0000412ca6e4628ce2cf</td>\n",
              "      <td>[why, does, velocity, affect, time, does, velo...</td>\n",
              "      <td>0</td>\n",
              "    </tr>\n",
              "    <tr>\n",
              "      <th>3</th>\n",
              "      <td>000042bf85aa498cd78e</td>\n",
              "      <td>[how, did, otto, von, guericke, used, the, mag...</td>\n",
              "      <td>0</td>\n",
              "    </tr>\n",
              "    <tr>\n",
              "      <th>4</th>\n",
              "      <td>0000455dfa3e01eae3af</td>\n",
              "      <td>[can, i, convert, montra, helicon, d, to, a, m...</td>\n",
              "      <td>0</td>\n",
              "    </tr>\n",
              "  </tbody>\n",
              "</table>\n",
              "</div>"
            ],
            "text/plain": [
              "                    qid  ... target\n",
              "0  00002165364db923c7e6  ...      0\n",
              "1  000032939017120e6e44  ...      0\n",
              "2  0000412ca6e4628ce2cf  ...      0\n",
              "3  000042bf85aa498cd78e  ...      0\n",
              "4  0000455dfa3e01eae3af  ...      0\n",
              "\n",
              "[5 rows x 3 columns]"
            ]
          },
          "metadata": {
            "tags": []
          },
          "execution_count": 6
        }
      ]
    },
    {
      "cell_type": "markdown",
      "metadata": {
        "id": "YmNGuQl6JApN"
      },
      "source": [
        "> **3. Remove stopword:**\n"
      ]
    },
    {
      "cell_type": "code",
      "metadata": {
        "trusted": true,
        "id": "rGc1SHU4JApO",
        "colab": {
          "base_uri": "https://localhost:8080/"
        },
        "outputId": "5f46a36c-dfe7-4100-d35a-39ac1e24cfdf"
      },
      "source": [
        "import nltk\n",
        "nltk.download('stopwords')\n",
        "from nltk.corpus import stopwords\n",
        "\n",
        "stopword =nltk.corpus.stopwords.words('english')\n",
        "\n",
        "def remove_stopwords(tokenized_list):\n",
        "    text = [word for word in tokenized_list if word not in stopword]\n",
        "    return text\n",
        "\n",
        "train_df['question_text'] = train_df['question_text'].apply(remove_stopwords)\n",
        "test_df['question_text'] = test_df['question_text'].apply(remove_stopwords)\n",
        "train_df.head()"
      ],
      "execution_count": null,
      "outputs": [
        {
          "output_type": "stream",
          "text": [
            "[nltk_data] Downloading package stopwords to /root/nltk_data...\n",
            "[nltk_data]   Package stopwords is already up-to-date!\n"
          ],
          "name": "stdout"
        }
      ]
    },
    {
      "cell_type": "code",
      "metadata": {
        "id": "VbMbjWD_Z_UK"
      },
      "source": [
        "train_df.head()"
      ],
      "execution_count": null,
      "outputs": []
    },
    {
      "cell_type": "markdown",
      "metadata": {
        "id": "dKQP29g0JApO"
      },
      "source": [
        ""
      ]
    },
    {
      "cell_type": "markdown",
      "metadata": {
        "id": "iE_k97FKJApO"
      },
      "source": [
        "> **4. Lemmatizing**"
      ]
    },
    {
      "cell_type": "code",
      "metadata": {
        "trusted": true,
        "id": "8rO_o8iqJApO"
      },
      "source": [
        "wn = nltk.WordNetLemmatizer()\n",
        "nltk.download('wordnet')\n",
        "def lemmatizing(tokenized_text):\n",
        "    text = [wn.lemmatize(word) for word in tokenized_text]\n",
        "    return text\n",
        "\n",
        "train_df['question_text'] = train_df['question_text'].apply(lambda x: lemmatizing(x))\n",
        "test_df['question_text'] = test_df['question_text'].apply(lambda x: lemmatizing(x))\n",
        "\n",
        "train_df.head()\n",
        "\n"
      ],
      "execution_count": null,
      "outputs": []
    },
    {
      "cell_type": "markdown",
      "metadata": {
        "id": "3c0dDVB-JApP"
      },
      "source": [
        "# III. Biểu diễn dữ liệu\n"
      ]
    },
    {
      "cell_type": "code",
      "metadata": {
        "trusted": true,
        "id": "PWLQa5VVJApP"
      },
      "source": [
        "from sklearn.feature_extraction.text import CountVectorizer\n",
        "from sklearn.feature_selection import SelectKBest\n",
        "from sklearn.feature_selection import chi2\n",
        "from sklearn.preprocessing import LabelEncoder"
      ],
      "execution_count": null,
      "outputs": []
    },
    {
      "cell_type": "markdown",
      "metadata": {
        "id": "4n0Do1TLJApP"
      },
      "source": [
        "> **1. chọn đặc trưng dùng SelectKBest với score_func là chi2**"
      ]
    },
    {
      "cell_type": "code",
      "metadata": {
        "trusted": true,
        "id": "_v5Vj-_2JApP"
      },
      "source": [
        "def feature_select(corpus, labels, k=1000000):\n",
        "    \"\"\"\n",
        "    select top k features through chi-square test\n",
        "    \"\"\"\n",
        "    bin_cv = CountVectorizer(analyzer=\"word\", tokenizer=None, preprocessor=None, stop_words=None, binary=True)\n",
        "    le = LabelEncoder()\n",
        "    X = bin_cv.fit_transform(corpus, np.nan)\n",
        "    y = le.fit_transform(labels).reshape(-1, 1)\n",
        "\n",
        "    skb = SelectKBest(chi2, k='all')\n",
        "    skb.fit(X, y)\n",
        "\n",
        "    feature_ids = skb.get_support(indices=True)\n",
        "    feature_names = bin_cv.get_feature_names()\n",
        "    result = {}\n",
        "    vocab = []\n",
        "\n",
        "    for new_fid, old_fid in enumerate(feature_ids):\n",
        "        feature_name = feature_names[old_fid]\n",
        "        vocab.append(feature_name)\n",
        "\n",
        "    result['text'] = vocab\n",
        "    result['_score'] = list(skb.scores_)\n",
        "    result['_pvalue'] = list(skb.pvalues_)\n",
        "\n",
        "    return result"
      ],
      "execution_count": null,
      "outputs": []
    },
    {
      "cell_type": "code",
      "metadata": {
        "trusted": true,
        "id": "aqb2ZGoQJApQ"
      },
      "source": [
        "corpus = []\n",
        "for question in train_df.question_text:\n",
        "    corpus.append(' '.join(question))\n",
        "corpus\n",
        "scores = []\n",
        "for score in train_df.target:\n",
        "    scores.append(score)\n",
        "file_out = feature_select(corpus, scores)\n",
        "df = pd.DataFrame(file_out)\n",
        "df = df.sort_values('_score', ascending=False)\n"
      ],
      "execution_count": null,
      "outputs": []
    },
    {
      "cell_type": "code",
      "metadata": {
        "trusted": true,
        "id": "TZNlvSJCJApQ"
      },
      "source": [
        "df"
      ],
      "execution_count": null,
      "outputs": []
    },
    {
      "cell_type": "markdown",
      "metadata": {
        "id": "CWcjm8t2JApR"
      },
      "source": [
        "* **Chuẩn hóa điểm score của chi2 về trong khoảng 0 đến 1 dùng Min_max scaling**"
      ]
    },
    {
      "cell_type": "code",
      "metadata": {
        "trusted": true,
        "id": "JM9okxAVJApR"
      },
      "source": [
        "from sklearn.preprocessing import MinMaxScaler\n",
        "def scaling(data):\n",
        "    scaler = MinMaxScaler()\n",
        "    scaler.fit(data)\n",
        "    scores = scaler.transform(data)\n",
        "    return scores\n",
        "scores = np.array(df._score)\n",
        "scores = scores.reshape((len(scores),1))\n",
        "df._score = scaling(scores).reshape((len(scores)))\n",
        "# df.to_csv('./chi2_vocabulary.csv', ',', encoding='utf-8')\n",
        "df\n"
      ],
      "execution_count": null,
      "outputs": []
    },
    {
      "cell_type": "markdown",
      "metadata": {
        "id": "CvpqxbC4JApR"
      },
      "source": [
        "> **2. Biểu diễn dữ liệu**"
      ]
    },
    {
      "cell_type": "markdown",
      "metadata": {
        "id": "AIDf3QSzJApS"
      },
      "source": [
        "Sau khi dùng chi2 để đánh trọng số các từ, tiến hành lọc vocab theo ngưỡng điểm _score"
      ]
    },
    {
      "cell_type": "code",
      "metadata": {
        "trusted": true,
        "id": "e6ajLNO6JApS"
      },
      "source": [
        "#load vocabulary\n",
        "vocab_df = pd.read_csv(\"/content/sample_data/Data/Vocab/chi2_vocabulary.csv.csv\")\n",
        "X_train = []\n",
        "vocab = vocab_df.set_index('text').T.to_dict('list')\n",
        "vocab\n",
        "def vectorizing(text):\n",
        "  text_to_vec = [vocab[t] for t in text]\n",
        "  return  text_to_vec\n",
        "\n",
        "for text in train_df.question_text:\n",
        "  text_to_vec = [vocab[t][0] if t in vocab.keys() else 0 for t in text]\n",
        "  X_train.append(text_to_vec)\n",
        "X_train"
      ],
      "execution_count": null,
      "outputs": []
    },
    {
      "cell_type": "code",
      "metadata": {
        "id": "q9RwA3tCkZ6W"
      },
      "source": [
        "\n",
        "from keras.preprocessing.sequence import pad_sequences\n",
        "MAX_SENTENCE_LENGTH = 69 # Độ dài tối đa của chuỗi\n",
        "PADDING_TYPE = 'post' # kiểu padding, post = cuối chuỗi\n",
        "TRUNCATE_TYPE = 'post'# kiểu truncating, post = cuối chuỗi\n",
        "X_train\n",
        "def create_sequence(tokenizer):\n",
        "    word_sequeces = tokenizer\n",
        "    padded_word_sequences = pad_sequences(word_sequeces, maxlen=MAX_SENTENCE_LENGTH, padding=PADDING_TYPE, truncating=TRUNCATE_TYPE)\n",
        "    return padded_word_sequences\n",
        "padded_sequences = create_sequence(X_train)\n",
        "\n",
        "    \n",
        "# Độ dài của mỗi chuỗi\n",
        "print(\"Length of 10 first word_sequences:\")\n",
        "print(list(map(lambda x: len(x) ,padded_sequences[:10])))\n",
        "\n"
      ],
      "execution_count": null,
      "outputs": []
    },
    {
      "cell_type": "code",
      "metadata": {
        "id": "1rCnHynYtQ-f"
      },
      "source": [
        "print(\"\\n10 first word_sequences:\")\n",
        "for sequence in padded_sequences[50:100]:\n",
        "    print(sequence)"
      ],
      "execution_count": null,
      "outputs": []
    },
    {
      "cell_type": "code",
      "metadata": {
        "trusted": true,
        "id": "E3RbvwzrJApS"
      },
      "source": [
        "Y_train  = train_df.target\n",
        "Y_train"
      ],
      "execution_count": null,
      "outputs": []
    },
    {
      "cell_type": "markdown",
      "metadata": {
        "id": "3GW6BgR_JApS"
      },
      "source": [
        "# IV. Huấn Luyện mô hình"
      ]
    },
    {
      "cell_type": "markdown",
      "metadata": {
        "id": "vLch6b5IJApS"
      },
      "source": [
        "> **1. Chọn model**\n"
      ]
    },
    {
      "cell_type": "markdown",
      "metadata": {
        "id": "gV_bXXW0JApT"
      },
      "source": [
        ""
      ]
    },
    {
      "cell_type": "code",
      "metadata": {
        "trusted": true,
        "id": "bGWN_MRoJApT"
      },
      "source": [
        "from sklearn.linear_model import LogisticRegression\n",
        "from sklearn.model_selection import train_test_split\n",
        "model = LogisticRegression()\n",
        "\n",
        "train_X, test_X, train_y, test_y = train_test_split(padded_sequences, Y_train, test_size=0.3)\n",
        "model.fit(train_X, train_y)"
      ],
      "execution_count": null,
      "outputs": []
    },
    {
      "cell_type": "markdown",
      "metadata": {
        "id": "z1LYhJUtJApT"
      },
      "source": [
        "> **2. Đánh giá**"
      ]
    },
    {
      "cell_type": "code",
      "metadata": {
        "id": "enONQNjoJApT"
      },
      "source": [
        "# X_test = []\n",
        "# for text in test_df.question_text:\n",
        "#   text_to_vec = [vocab[t][0] if t in vocab.keys() else 0 for t in text]\n",
        "#   X_test.append(text_to_vec)\n"
      ],
      "execution_count": null,
      "outputs": []
    },
    {
      "cell_type": "code",
      "metadata": {
        "id": "3oiycsw4uoCy"
      },
      "source": [
        "# X_test = create_sequence(X_test)\n",
        "# X_test"
      ],
      "execution_count": null,
      "outputs": []
    },
    {
      "cell_type": "code",
      "metadata": {
        "id": "imWMFcJiua7r"
      },
      "source": [
        "x = model.predict(test_X)\n",
        "x\n",
        "c = 0\n",
        "for i in x:\n",
        "  if i ==1 :\n",
        "    c=c+1\n",
        "c"
      ],
      "execution_count": null,
      "outputs": []
    },
    {
      "cell_type": "code",
      "metadata": {
        "id": "BP0QVekHwojc"
      },
      "source": [
        "# test_df['prediction'] = x\n",
        "# test_df"
      ],
      "execution_count": null,
      "outputs": []
    },
    {
      "cell_type": "code",
      "metadata": {
        "id": "O8Ilqr_nxSAc"
      },
      "source": [
        "del test_df['question_text']\n",
        "test_df\n"
      ],
      "execution_count": null,
      "outputs": []
    },
    {
      "cell_type": "code",
      "metadata": {
        "id": "jNTw4NV2xbKt"
      },
      "source": [
        "# count = 0\n",
        "# for _, p in test_df.iterrows():\n",
        "#   if p.prediction == 1:\n",
        "#     count= count+1\n",
        "# count\n",
        "# test_df.to_csv('/content/sample_data/Data/Output/submission.csv', ',', encoding='utf-8')\n"
      ],
      "execution_count": null,
      "outputs": []
    },
    {
      "cell_type": "code",
      "metadata": {
        "id": "YCK7THlx0M03"
      },
      "source": [
        "def evaluate( y_test, y_predicts):\n",
        "  tp = 0\n",
        "  fp = 0\n",
        "  fn = 0\n",
        "  for g, p in zip(y_test, y_predicts):\n",
        "    if g == p == 1:\n",
        "      tp += 1\n",
        "    elif g == 1:\n",
        "      fn += 1\n",
        "    elif p == 1:\n",
        "      fp += 1\n",
        "    p = tp / (tp + fp)\n",
        "    r = tp / (tp + fn)\n",
        "    f1 = 2 * p * r / (p + r)\n",
        "  return p, r, f1\n",
        "f1  = evaluate(test_y, x)\n",
        "f1\n",
        "      "
      ],
      "execution_count": null,
      "outputs": []
    },
    {
      "cell_type": "markdown",
      "metadata": {
        "id": "7HFxWmx70Mn_"
      },
      "source": [
        ""
      ]
    }
  ]
}